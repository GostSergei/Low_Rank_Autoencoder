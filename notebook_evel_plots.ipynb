{
 "cells": [
  {
   "cell_type": "code",
   "execution_count": 1,
   "metadata": {},
   "outputs": [
    {
     "name": "stderr",
     "output_type": "stream",
     "text": [
      "/home/s.gostilovich/.venv/lib64/python3.9/site-packages/tqdm/auto.py:21: TqdmWarning: IProgress not found. Please update jupyter and ipywidgets. See https://ipywidgets.readthedocs.io/en/stable/user_install.html\n",
      "  from .autonotebook import tqdm as notebook_tqdm\n"
     ]
    }
   ],
   "source": [
    "import numpy as np\n",
    "import matplotlib.pyplot as plt\n",
    "import torch\n",
    "import os\n",
    "\n",
    "from tqdm import tqdm\n",
    "\n"
   ]
  },
  {
   "cell_type": "markdown",
   "metadata": {},
   "source": [
    "# Plot NIPS MNIST alpha"
   ]
  },
  {
   "cell_type": "code",
   "execution_count": 100,
   "metadata": {},
   "outputs": [
    {
     "name": "stdout",
     "output_type": "stream",
     "text": [
      "[3.2, 1, 0.5, 0.1, 0.01, 0.001, 0.0001]\n"
     ]
    }
   ],
   "source": [
    "model_type = 'VAE'\n",
    "str_rec_metrics = \"\"\"\n",
    "MSE: 0.0213(0.0212);   PSNR: 16.73 (16.73);   Rec FID: 32.15 (31.16)\n",
    "MSE: 0.0086(0.0083);   PSNR: 20.65 (20.80);   Rec FID: 11.07 (10.34)\n",
    "MSE: 0.0042(0.0039);   PSNR: 23.81 (24.04);   Rec FID: 8.99 (8.28)\n",
    "MSE: 0.0022(0.0021);   PSNR: 26.50 (26.84);   Rec FID: 7.18 (6.51)\n",
    "\"\"\"\n",
    "str_gen_fid  = \"\"\"\n",
    "FID gm1: 59.33;   FID gm4: 43.61\n",
    "FID gm1: 34.59;   FID gm4: 21.20\n",
    "FID gm1: 31.29;   FID gm4: 17.89\n",
    "FID gm1: 36.97;   FID gm4: 21.81\n",
    "\"\"\"\n",
    "alpha_list = [1/(10**(i+1)) for i in range(4)]\n",
    "\n",
    "\n",
    "model_type = 'LRAE'\n",
    "str_rec_metrics = \"\"\"\n",
    "MSE: 0.0035(0.0033);  PSNR: 24.60 (24.76);    Rec FID: 8.50 (7.83)\n",
    "MSE: 0.0024(0.0023);   PSNR: 26.17 (26.48);   Rec FID: 7.97 (7.31)\n",
    "MSE: 0.0031(0.0028);   PSNR: 25.05 (25.54);   Rec FID: 7.99 (7.32)\n",
    "MSE: 0.0036(0.0033);   PSNR: 24.42 (24.75);   Rec FID: 8.08 (7.49)\n",
    "\"\"\"\n",
    "str_gen_fid  = \"\"\"\n",
    "FID gm1: 27.79;   FID gm4: 16.51\n",
    "FID gm1: 31.39;   FID gm4: 18.98\n",
    "FID gm1: 30.92;   FID gm4: 18.16\n",
    "FID gm1: 32.37;   FID gm4: 19.47\n",
    "\"\"\"\n",
    "alpha_list = [3.2, 1, 0.5] +  [1/(10**(i+1)) for i in range(4)]\n",
    "\n",
    "\n",
    "\n",
    "print(alpha_list)"
   ]
  },
  {
   "cell_type": "code",
   "execution_count": 118,
   "metadata": {},
   "outputs": [],
   "source": [
    "model_type = 'VAE'\n",
    "str_rec_metrics = \"\"\"\n",
    "MSE: 0.0042(0.0039); PSNR: 23.81 (24.04);   Rec FID: 8.99 (8.28)\n",
    "MSE: 0.0045 (0.0043);   PSNR: 23.47 (23.62);   Rec FID: 9.03 (8.39)\n",
    "MSE: 0.0049 (0.0048);   PSNR: 23.11 (23.18);   Rec FID: 9.13 (8.51)\n",
    "MSE: 0.0058 (0.0057);   PSNR: 22.40 (22.42);   Rec FID: 10.08 (9.51)\n",
    "MSE: 0.0069 (0.0070);   PSNR: 21.59 (21.56);   Rec FID: 11.73 (11.32)\n",
    "\"\"\"\n",
    "str_gen_fid  = \"\"\"\n",
    "FID gm1: 31.29; FID gm4: 17.89\n",
    "FID gm1: 32.75;   FID gm4: 19.90\n",
    "FID gm1: 36.48;   FID gm4: 21.03\n",
    "FID gm1: 37.33;   FID gm4: 24.63\n",
    "FID gm1: 41.17;   FID gm4: 27.53\n",
    "\"\"\"\n",
    "\n",
    "alpha_list = [32, 128, 256, 512, 1024]\n"
   ]
  },
  {
   "cell_type": "code",
   "execution_count": null,
   "metadata": {},
   "outputs": [],
   "source": [
    "\n"
   ]
  },
  {
   "cell_type": "code",
   "execution_count": 119,
   "metadata": {},
   "outputs": [],
   "source": [
    "def split_metric_test_train(metric):\n",
    "    metric_name = metric.strip().split(':')[0]\n",
    "    test_train = metric.strip().split(':')[1].strip().strip(')').split('(')\n",
    "    test = float(test_train[0].strip())\n",
    "    train = float(test_train[1].strip())\n",
    "    # print(metric_name, test, train)\n",
    "    return test, train, metric_name\n",
    "\n",
    "\n",
    "def split_metric(metric):\n",
    "    metric_name = metric.strip().split(':')[0]\n",
    "    test = metric.strip().split(':')[1].strip()\n",
    "    test = float(test)\n",
    "    return test, metric_name\n",
    "\n",
    "def udpate_list_dict(key, value, dict_={}):\n",
    "    if key not in dict_.keys():\n",
    "        dict_[key] = []\n",
    "    dict_[key] += [value]\n",
    "    return dict_ \n"
   ]
  },
  {
   "cell_type": "code",
   "execution_count": 120,
   "metadata": {},
   "outputs": [
    {
     "data": {
      "text/plain": [
       "{'MSE_test': [0.0042, 0.0045, 0.0049, 0.0058, 0.0069],\n",
       " 'MSE_train': [0.0039, 0.0043, 0.0048, 0.0057, 0.007],\n",
       " 'PSNR_test': [23.81, 23.47, 23.11, 22.4, 21.59],\n",
       " 'PSNR_train': [24.04, 23.62, 23.18, 22.42, 21.56],\n",
       " 'Rec FID_test': [8.99, 9.03, 9.13, 10.08, 11.73],\n",
       " 'Rec FID_train': [8.28, 8.39, 8.51, 9.51, 11.32],\n",
       " 'FID gm1': [31.29, 32.75, 36.48, 37.33, 41.17],\n",
       " 'FID gm4': [17.89, 19.9, 21.03, 24.63, 27.53]}"
      ]
     },
     "execution_count": 120,
     "metadata": {},
     "output_type": "execute_result"
    }
   ],
   "source": [
    "\n",
    "data_dict = {}\n",
    "\n",
    "lines = str_rec_metrics.strip().split('\\n')\n",
    "for line in lines:\n",
    "    metrics = line.strip().split(';')\n",
    "    for i, metric in enumerate(metrics):\n",
    "        test, train, metric_name = split_metric_test_train(metric)\n",
    "        key = metric_name+'_train'\n",
    "        udpate_list_dict( metric_name+'_test', test, dict_=data_dict)\n",
    "        udpate_list_dict( metric_name+'_train', train, dict_=data_dict)\n",
    " \n",
    "lines = str_gen_fid.strip().split('\\n')       \n",
    "for line in lines:\n",
    "    metrics = line.strip().split(';')\n",
    "    for i, metric in enumerate(metrics):\n",
    "        value, metric_name = split_metric(metric)\n",
    "        udpate_list_dict( metric_name, value, dict_=data_dict)\n",
    "        # udpate_list_dict( metric_name+'_train', train, dict_=data_dict)       \n",
    "        \n",
    "        \n",
    "        \n",
    "data_dict\n",
    "\n",
    "\n"
   ]
  },
  {
   "cell_type": "code",
   "execution_count": null,
   "metadata": {},
   "outputs": [],
   "source": []
  },
  {
   "cell_type": "code",
   "execution_count": 125,
   "metadata": {},
   "outputs": [
    {
     "data": {
      "text/plain": [
       "Text(0.5, 0.98, 'VAE')"
      ]
     },
     "execution_count": 125,
     "metadata": {},
     "output_type": "execute_result"
    },
    {
     "data": {
      "image/png": "[encoded data removed]",
      "text/plain": [
       "<Figure size 1200x200 with 4 Axes>"
      ]
     },
     "metadata": {},
     "output_type": "display_data"
    }
   ],
   "source": [
    "# MSE\n",
    "plt.figure(figsize=[12, 2])\n",
    "plt.subplot(1, 4, 1)\n",
    "keys = ['MSE_test','MSE_train']\n",
    "for key in keys:\n",
    "    plt.plot(alpha_list, data_dict[key], label=key.split('_')[1])\n",
    "# plt.plot(alpha_list, data_dict[key], label=key)\n",
    "# plt.gca().set_xscale('log')\n",
    "plt.gca().set_xscale('log')\n",
    "# plt.gca().invert_xaxis()\n",
    "plt.title(keys[0].split('_')[0])\n",
    "plt.grid()\n",
    "plt.legend()\n",
    "\n",
    "\n",
    "# PSNR\n",
    "plt.subplot(1, 4, 2)\n",
    "keys = ['PSNR_test','PSNR_train']\n",
    "for key in keys:\n",
    "    plt.plot(alpha_list, data_dict[key], label=key.split('_')[1])\n",
    "# plt.plot(alpha_list, data_dict[key], label=key)\n",
    "# plt.gca().set_xscale('log')\n",
    "plt.gca().set_xscale('log')\n",
    "# plt.gca().invert_xaxis()\n",
    "plt.title(keys[0].split('_')[0])\n",
    "plt.grid()\n",
    "plt.legend()\n",
    "\n",
    "# Rec FID\n",
    "plt.subplot(1, 4, 3)\n",
    "keys = ['Rec FID_test','Rec FID_train']\n",
    "for key in keys:\n",
    "    plt.plot(alpha_list, data_dict[key], label=key.split('_')[1])\n",
    "# plt.plot(alpha_list, data_dict[key], label=key)\n",
    "# plt.gca().set_xscale('log')\n",
    "plt.gca().set_xscale('log')\n",
    "# plt.gca().invert_xaxis()\n",
    "plt.title(keys[0].split('_')[0])\n",
    "plt.grid()\n",
    "plt.legend()\n",
    "\n",
    "\n",
    "# Gen FID\n",
    "# plt.figure(figsize=[4, 2])\n",
    "plt.subplot(1, 4, 4)\n",
    "keys = ['FID gm1','FID gm4']\n",
    "for key in keys:\n",
    "    plt.plot(alpha_list, data_dict[key], label=key.split(' ')[1])\n",
    "# plt.plot(alpha_list, data_dict[key], label=key)\n",
    "# plt.gca().set_xscale('log')\n",
    "plt.gca().set_xscale('log')\n",
    "# plt.gca().invert_xaxis()\n",
    "plt.title('Gen '+ keys[0].split(' ')[0])\n",
    "plt.grid()\n",
    "plt.legend()\n",
    "\n",
    "plt.suptitle(model_type)"
   ]
  },
  {
   "cell_type": "code",
   "execution_count": null,
   "metadata": {},
   "outputs": [],
   "source": []
  },
  {
   "cell_type": "code",
   "execution_count": null,
   "metadata": {},
   "outputs": [],
   "source": []
  },
  {
   "cell_type": "markdown",
   "metadata": {},
   "source": [
    "# others"
   ]
  },
  {
   "cell_type": "code",
   "execution_count": 117,
   "metadata": {},
   "outputs": [
    {
     "data": {
      "text/plain": [
       "{1: 1, 2: 2, 3: 3}"
      ]
     },
     "execution_count": 117,
     "metadata": {},
     "output_type": "execute_result"
    }
   ],
   "source": [
    "\n",
    "b = {1:1, 2:2} | {3:3}\n",
    "b"
   ]
  },
  {
   "cell_type": "code",
   "execution_count": null,
   "metadata": {},
   "outputs": [],
   "source": []
  }
 ],
 "metadata": {
  "kernelspec": {
   "display_name": ".venv",
   "language": "python",
   "name": "python3"
  },
  "language_info": {
   "codemirror_mode": {
    "name": "ipython",
    "version": 3
   },
   "file_extension": ".py",
   "mimetype": "text/x-python",
   "name": "python",
   "nbconvert_exporter": "python",
   "pygments_lexer": "ipython3",
   "version": "3.9.13"
  }
 },
 "nbformat": 4,
 "nbformat_minor": 2
}
