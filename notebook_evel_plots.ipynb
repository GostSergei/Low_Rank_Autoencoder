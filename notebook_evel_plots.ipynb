{
 "cells": [
  {
   "cell_type": "code",
   "execution_count": 1,
   "metadata": {},
   "outputs": [
    {
     "name": "stderr",
     "output_type": "stream",
     "text": [
      "/home/s.gostilovich/.venv/lib64/python3.9/site-packages/tqdm/auto.py:21: TqdmWarning: IProgress not found. Please update jupyter and ipywidgets. See https://ipywidgets.readthedocs.io/en/stable/user_install.html\n",
      "  from .autonotebook import tqdm as notebook_tqdm\n"
     ]
    }
   ],
   "source": [
    "import numpy as np\n",
    "import matplotlib.pyplot as plt\n",
    "import torch\n",
    "import os\n",
    "\n",
    "from tqdm import tqdm\n",
    "\n"
   ]
  },
  {
   "cell_type": "markdown",
   "metadata": {},
   "source": [
    "# Plot NIPS MNIST alpha"
   ]
  },
  {
   "cell_type": "code",
   "execution_count": 2,
   "metadata": {},
   "outputs": [
    {
     "name": "stdout",
     "output_type": "stream",
     "text": [
      "[3.2, 1, 0.5, 0.1, 0.01, 0.001, 0.0001]\n"
     ]
    }
   ],
   "source": [
    "model_type = 'VAE'\n",
    "str_rec_metrics = \"\"\"\n",
    "MSE: 0.0213(0.0212);   PSNR: 16.73 (16.73);   Rec FID: 32.15 (31.16)\n",
    "MSE: 0.0086(0.0083);   PSNR: 20.65 (20.80);   Rec FID: 11.07 (10.34)\n",
    "MSE: 0.0042(0.0039);   PSNR: 23.81 (24.04);   Rec FID: 8.99 (8.28)\n",
    "MSE: 0.0022(0.0021);   PSNR: 26.50 (26.84);   Rec FID: 7.18 (6.51)\n",
    "\"\"\"\n",
    "str_gen_fid  = \"\"\"\n",
    "FID gm1: 59.33;   FID gm4: 43.61\n",
    "FID gm1: 34.59;   FID gm4: 21.20\n",
    "FID gm1: 31.29;   FID gm4: 17.89\n",
    "FID gm1: 36.97;   FID gm4: 21.81\n",
    "\"\"\"\n",
    "alpha_list = [1/(10**(i+1)) for i in range(4)]\n",
    "\n",
    "\n",
    "model_type = 'LRAE'\n",
    "str_rec_metrics = \"\"\"\n",
    "MSE: 0.0035(0.0033);  PSNR: 24.60 (24.76);    Rec FID: 8.50 (7.83)\n",
    "MSE: 0.0024(0.0023);   PSNR: 26.17 (26.48);   Rec FID: 7.97 (7.31)\n",
    "MSE: 0.0031(0.0028);   PSNR: 25.05 (25.54);   Rec FID: 7.99 (7.32)\n",
    "MSE: 0.0036(0.0033);   PSNR: 24.42 (24.75);   Rec FID: 8.08 (7.49)\n",
    "\"\"\"\n",
    "str_gen_fid  = \"\"\"\n",
    "FID gm1: 27.79;   FID gm4: 16.51\n",
    "FID gm1: 31.39;   FID gm4: 18.98\n",
    "FID gm1: 30.92;   FID gm4: 18.16\n",
    "FID gm1: 32.37;   FID gm4: 19.47\n",
    "\"\"\"\n",
    "x_list = [3.2, 1, 0.5] +  [1/(10**(i+1)) for i in range(4)]\n",
    "x_label = 'alpha'\n",
    "\n",
    "print(x_list)"
   ]
  },
  {
   "cell_type": "code",
   "execution_count": 3,
   "metadata": {},
   "outputs": [
    {
     "name": "stdout",
     "output_type": "stream",
     "text": [
      "[32, 128, 256, 512, 1024]\n"
     ]
    }
   ],
   "source": [
    "model_type = 'VAE'\n",
    "str_rec_metrics = \"\"\"\n",
    "MSE: 0.0042(0.0039); PSNR: 23.81 (24.04);   Rec FID: 8.99 (8.28)\n",
    "MSE: 0.0045 (0.0043);   PSNR: 23.47 (23.62);   Rec FID: 9.03 (8.39)\n",
    "MSE: 0.0049 (0.0048);   PSNR: 23.11 (23.18);   Rec FID: 9.13 (8.51)\n",
    "MSE: 0.0058 (0.0057);   PSNR: 22.40 (22.42);   Rec FID: 10.08 (9.51)\n",
    "MSE: 0.0069 (0.0070);   PSNR: 21.59 (21.56);   Rec FID: 11.73 (11.32)\n",
    "\"\"\"\n",
    "str_gen_fid  = \"\"\"\n",
    "FID gm1: 31.29; FID gm4: 17.89\n",
    "FID gm1: 32.75;   FID gm4: 19.90\n",
    "FID gm1: 36.48;   FID gm4: 21.03\n",
    "FID gm1: 37.33;   FID gm4: 24.63\n",
    "FID gm1: 41.17;   FID gm4: 27.53\n",
    "\"\"\"\n",
    "\n",
    "x_label = 'batch_size'\n",
    "\n",
    "x_list = [32, 128, 256, 512, 1024]\n",
    "\n",
    "\n",
    "print(x_list)"
   ]
  },
  {
   "cell_type": "code",
   "execution_count": 8,
   "metadata": {},
   "outputs": [
    {
     "data": {
      "text/plain": [
       "[50, 75, 100, 125, 150, 175, 200]"
      ]
     },
     "execution_count": 8,
     "metadata": {},
     "output_type": "execute_result"
    }
   ],
   "source": [
    "model_type = 'VAE'\n",
    "str_rec_metrics = \"\"\"\n",
    "MSE: 0.0069 (0.0069);   PSNR: 21.63 (21.60);   Rec FID: 11.38 (11.08)\n",
    "MSE: 0.0060 (0.0060);   PSNR: 22.24 (22.25);   Rec FID: 10.40 (9.83)\n",
    "MSE: 0.0054 (0.0053);   PSNR: 22.67 (22.74);   Rec FID: 9.66 (9.16)\n",
    "MSE: 0.0051 (0.0050);   PSNR: 22.92 (23.02);   Rec FID: 9.35 (8.79)\n",
    "MSE: 0.0049 (0.0047);   PSNR: 23.11 (23.26);   Rec FID: 9.26 (8.64)\n",
    "MSE: 0.0047 (0.0045);   PSNR: 23.32 (23.49);   Rec FID: 9.07 (8.44)\n",
    "MSE: 0.0045 (0.0044);   PSNR: 23.43 (23.59);   Rec FID: 8.93 (8.30)\n",
    "\"\"\"\n",
    "str_gen_fid  = \"\"\"\n",
    "FID gm1: 40.82;   FID gm4: 27.93\n",
    "FID gm1: 38.59;   FID gm4: 23.64\n",
    "FID gm1: 36.98;   FID gm4: 22.14\n",
    "FID gm1: 36.04;   FID gm4: 22.17\n",
    "FID gm1: 36.82;   FID gm4: 23.11\n",
    "FID gm1: 34.46;   FID gm4: 19.38\n",
    "FID gm1: 34.45;   FID gm4: 21.98\n",
    "\"\"\"\n",
    "\n",
    "x_label = 'epoch'\n",
    "x_list = [50 + i*25 for i in range(7)]\n",
    "x_list"
   ]
  },
  {
   "cell_type": "code",
   "execution_count": 9,
   "metadata": {},
   "outputs": [],
   "source": [
    "def split_metric_test_train(metric):\n",
    "    metric_name = metric.strip().split(':')[0]\n",
    "    test_train = metric.strip().split(':')[1].strip().strip(')').split('(')\n",
    "    test = float(test_train[0].strip())\n",
    "    train = float(test_train[1].strip())\n",
    "    # print(metric_name, test, train)\n",
    "    return test, train, metric_name\n",
    "\n",
    "\n",
    "def split_metric(metric):\n",
    "    metric_name = metric.strip().split(':')[0]\n",
    "    test = metric.strip().split(':')[1].strip()\n",
    "    test = float(test)\n",
    "    return test, metric_name\n",
    "\n",
    "def udpate_list_dict(key, value, dict_={}):\n",
    "    if key not in dict_.keys():\n",
    "        dict_[key] = []\n",
    "    dict_[key] += [value]\n",
    "    return dict_ \n"
   ]
  },
  {
   "cell_type": "code",
   "execution_count": 10,
   "metadata": {},
   "outputs": [
    {
     "data": {
      "text/plain": [
       "{'MSE_test': [0.0069, 0.006, 0.0054, 0.0051, 0.0049, 0.0047, 0.0045],\n",
       " 'MSE_train': [0.0069, 0.006, 0.0053, 0.005, 0.0047, 0.0045, 0.0044],\n",
       " 'PSNR_test': [21.63, 22.24, 22.67, 22.92, 23.11, 23.32, 23.43],\n",
       " 'PSNR_train': [21.6, 22.25, 22.74, 23.02, 23.26, 23.49, 23.59],\n",
       " 'Rec FID_test': [11.38, 10.4, 9.66, 9.35, 9.26, 9.07, 8.93],\n",
       " 'Rec FID_train': [11.08, 9.83, 9.16, 8.79, 8.64, 8.44, 8.3],\n",
       " 'FID gm1': [40.82, 38.59, 36.98, 36.04, 36.82, 34.46, 34.45],\n",
       " 'FID gm4': [27.93, 23.64, 22.14, 22.17, 23.11, 19.38, 21.98]}"
      ]
     },
     "execution_count": 10,
     "metadata": {},
     "output_type": "execute_result"
    }
   ],
   "source": [
    "\n",
    "data_dict = {}\n",
    "\n",
    "lines = str_rec_metrics.strip().split('\\n')\n",
    "for line in lines:\n",
    "    metrics = line.strip().split(';')\n",
    "    for i, metric in enumerate(metrics):\n",
    "        test, train, metric_name = split_metric_test_train(metric)\n",
    "        key = metric_name+'_train'\n",
    "        udpate_list_dict( metric_name+'_test', test, dict_=data_dict)\n",
    "        udpate_list_dict( metric_name+'_train', train, dict_=data_dict)\n",
    " \n",
    "lines = str_gen_fid.strip().split('\\n')       \n",
    "for line in lines:\n",
    "    metrics = line.strip().split(';')\n",
    "    for i, metric in enumerate(metrics):\n",
    "        value, metric_name = split_metric(metric)\n",
    "        udpate_list_dict( metric_name, value, dict_=data_dict)\n",
    "        # udpate_list_dict( metric_name+'_train', train, dict_=data_dict)       \n",
    "        \n",
    "        \n",
    "        \n",
    "data_dict\n",
    "\n",
    "\n"
   ]
  },
  {
   "cell_type": "code",
   "execution_count": null,
   "metadata": {},
   "outputs": [],
   "source": []
  },
  {
   "cell_type": "code",
   "execution_count": 12,
   "metadata": {},
   "outputs": [
    {
     "data": {
      "text/plain": [
       "Text(0.5, 0.98, 'VAE')"
      ]
     },
     "execution_count": 12,
     "metadata": {},
     "output_type": "execute_result"
    },
    {
     "data": {
      "image/png": "[encoded data removed]",
      "text/plain": [
       "<Figure size 1200x200 with 4 Axes>"
      ]
     },
     "metadata": {},
     "output_type": "display_data"
    }
   ],
   "source": [
    "# MSE\n",
    "plt.figure(figsize=[12, 2])\n",
    "plt.subplot(1, 4, 1)\n",
    "keys = ['MSE_test','MSE_train']\n",
    "for key in keys:\n",
    "    plt.plot(x_list, data_dict[key], label=key.split('_')[1])\n",
    "# plt.plot(alpha_list, data_dict[key], label=key)\n",
    "# plt.gca().set_xscale('log')\n",
    "# plt.gca().set_xscale('log')\n",
    "plt.gca().set_xlabel(x_label)\n",
    "# plt.gca().invert_xaxis()\n",
    "plt.title(keys[0].split('_')[0])\n",
    "plt.grid()\n",
    "plt.legend()\n",
    "\n",
    "\n",
    "# PSNR\n",
    "plt.subplot(1, 4, 2)\n",
    "keys = ['PSNR_test','PSNR_train']\n",
    "for key in keys:\n",
    "    plt.plot(x_list, data_dict[key], label=key.split('_')[1])\n",
    "# plt.plot(alpha_list, data_dict[key], label=key)\n",
    "# plt.gca().set_xscale('log')\n",
    "# plt.gca().set_xscale('log')\n",
    "plt.gca().set_xlabel(x_label)\n",
    "# plt.gca().invert_xaxis()\n",
    "plt.title(keys[0].split('_')[0])\n",
    "plt.grid()\n",
    "plt.legend()\n",
    "\n",
    "# Rec FID\n",
    "plt.subplot(1, 4, 3)\n",
    "keys = ['Rec FID_test','Rec FID_train']\n",
    "for key in keys:\n",
    "    plt.plot(x_list, data_dict[key], label=key.split('_')[1])\n",
    "# plt.plot(alpha_list, data_dict[key], label=key)\n",
    "# plt.gca().set_xscale('log')\n",
    "# plt.gca().set_xscale('log')\n",
    "plt.gca().set_xlabel(x_label)\n",
    "# plt.gca().invert_xaxis()\n",
    "plt.title(keys[0].split('_')[0])\n",
    "plt.grid()\n",
    "plt.legend()\n",
    "\n",
    "\n",
    "# Gen FID\n",
    "# plt.figure(figsize=[4, 2])\n",
    "plt.subplot(1, 4, 4)\n",
    "keys = ['FID gm1','FID gm4']\n",
    "for key in keys:\n",
    "    plt.plot(x_list, data_dict[key], label=key.split(' ')[1])\n",
    "# plt.plot(alpha_list, data_dict[key], label=key)\n",
    "# plt.gca().set_xscale('log')\n",
    "# plt.gca().set_xscale('log')\n",
    "plt.gca().set_xlabel(x_label)\n",
    "# plt.gca().invert_xaxis()\n",
    "plt.title('Gen '+ keys[0].split(' ')[0])\n",
    "plt.grid()\n",
    "plt.legend()\n",
    "\n",
    "plt.suptitle(model_type)"
   ]
  },
  {
   "cell_type": "code",
   "execution_count": null,
   "metadata": {},
   "outputs": [],
   "source": []
  },
  {
   "cell_type": "code",
   "execution_count": null,
   "metadata": {},
   "outputs": [],
   "source": []
  },
  {
   "cell_type": "markdown",
   "metadata": {},
   "source": [
    "# others"
   ]
  },
  {
   "cell_type": "code",
   "execution_count": 117,
   "metadata": {},
   "outputs": [
    {
     "data": {
      "text/plain": [
       "{1: 1, 2: 2, 3: 3}"
      ]
     },
     "execution_count": 117,
     "metadata": {},
     "output_type": "execute_result"
    }
   ],
   "source": [
    "\n",
    "b = {1:1, 2:2} | {3:3}\n",
    "b"
   ]
  },
  {
   "cell_type": "code",
   "execution_count": null,
   "metadata": {},
   "outputs": [],
   "source": []
  }
 ],
 "metadata": {
  "kernelspec": {
   "display_name": ".venv",
   "language": "python",
   "name": "python3"
  },
  "language_info": {
   "codemirror_mode": {
    "name": "ipython",
    "version": 3
   },
   "file_extension": ".py",
   "mimetype": "text/x-python",
   "name": "python",
   "nbconvert_exporter": "python",
   "pygments_lexer": "ipython3",
   "version": "3.9.13"
  }
 },
 "nbformat": 4,
 "nbformat_minor": 2
}
