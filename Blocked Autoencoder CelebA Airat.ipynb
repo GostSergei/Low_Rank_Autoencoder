{
 "cells": [
  {
   "cell_type": "code",
   "execution_count": 2,
   "id": "fc3fe1ae",
   "metadata": {},
   "outputs": [],
   "source": [
    "%load_ext autoreload\n",
    "%autoreload 2"
   ]
  },
  {
   "cell_type": "code",
   "execution_count": 3,
   "id": "9720c038",
   "metadata": {},
   "outputs": [
    {
     "name": "stderr",
     "output_type": "stream",
     "text": [
      "/home/s.gostilovich/.venv/lib64/python3.9/site-packages/tqdm/auto.py:21: TqdmWarning: IProgress not found. Please update jupyter and ipywidgets. See https://ipywidgets.readthedocs.io/en/stable/user_install.html\n",
      "  from .autonotebook import tqdm as notebook_tqdm\n"
     ]
    }
   ],
   "source": [
    "import numpy as np\n",
    "import matplotlib.pyplot as plt\n",
    "import torch\n",
    "from torch import nn\n",
    "import os\n",
    "\n",
    "from tqdm import tqdm"
   ]
  },
  {
   "cell_type": "markdown",
   "id": "df67e312",
   "metadata": {},
   "source": [
    "# Dataset"
   ]
  },
  {
   "cell_type": "code",
   "execution_count": 4,
   "id": "e64d7c2f",
   "metadata": {},
   "outputs": [
    {
     "name": "stdout",
     "output_type": "stream",
     "text": [
      "Files already downloaded and verified\n",
      "torch.Size([50000, 3, 64, 64])\n",
      "tensor(1.)\n",
      "(tensor([0, 1]), tensor([1548141,  451859]))\n"
     ]
    }
   ],
   "source": [
    "import torchvision\n",
    "from torchvision import transforms\n",
    "from torch.utils.data import Subset, Dataset, DataLoader\n",
    "\n",
    "full_dataset = torchvision.datasets.CelebA('./files/', download=True,\n",
    "                                   transform=torchvision.transforms.Compose([\n",
    "                                 transforms.Resize([64, 64]),\n",
    "                                 torchvision.transforms.ToTensor(),\n",
    "                             ]))\n",
    "\n",
    "# dataset and dataloader\n",
    "TRAIN_SIZE = 100000\n",
    "TEST_SIZE = 10000\n",
    "train_size = int(0.9 * len(full_dataset))\n",
    "test_size = len(full_dataset) - train_size\n",
    "train_ds_celeb, test_ds_celeb = torch.utils.data.random_split(full_dataset, [train_size, test_size])\n",
    "\n",
    "\n",
    "BATCH_SIZE = 32\n",
    "dl = DataLoader(train_ds_celeb, batch_size=BATCH_SIZE,     num_workers=10)\n",
    "dl_test = DataLoader(test_ds_celeb, batch_size=BATCH_SIZE, num_workers=10)\n",
    "\n",
    "#full dataset train\n",
    "FULL_TRAIN_SIZE = 50000\n",
    "dl_full = DataLoader(train_ds_celeb, batch_size=FULL_TRAIN_SIZE)\n",
    "for x, y in dl_full:\n",
    "    X_full_train = x\n",
    "    targets = y\n",
    "    break\n",
    "\n",
    "#full dataset train\n",
    "FULL_TEST_SIZE = 10000\n",
    "dl_full = DataLoader(test_ds_celeb, batch_size=FULL_TEST_SIZE)\n",
    "for x, y in dl_full:\n",
    "    X_full_test = x\n",
    "    targets_test = y\n",
    "    break\n",
    "\n",
    "print(X_full_train.shape)\n",
    "print(torch.max(X_full_train))\n",
    "print(targets.unique(return_counts=True))\n",
    "\n",
    "DS_IN_CHANNELS=3"
   ]
  },
  {
   "cell_type": "code",
   "execution_count": 5,
   "id": "af7df1fd",
   "metadata": {},
   "outputs": [],
   "source": [
    "# import torchvision\n",
    "# from torchvision import transforms\n",
    "# from torch.utils.data import Subset, Dataset, DataLoader\n",
    "\n",
    "# train_ds_cifar10 = torchvision.datasets.CIFAR10('./files/', train=True, download=True,\n",
    "#                              transform=torchvision.transforms.Compose([\n",
    "#                                  transforms.Resize(32),\n",
    "#                                  torchvision.transforms.ToTensor(),\n",
    "#                              ]))\n",
    "# test_ds_cifar10  = torchvision.datasets.CIFAR10('./files/', train=False, download=True,\n",
    "#                              transform=torchvision.transforms.Compose([\n",
    "#                                  transforms.Resize(32),\n",
    "#                                  torchvision.transforms.ToTensor(),\n",
    "#                              ]))\n",
    "\n",
    "# # dataset and dataloader\n",
    "# TRAIN_SIZE = 50000\n",
    "# TEST_SIZE = 10000\n",
    "# BATCH_SIZE = 32\n",
    "# dl = DataLoader(train_ds_cifar10, batch_size=BATCH_SIZE,     num_workers=10)\n",
    "# dl_test = DataLoader(test_ds_cifar10, batch_size=BATCH_SIZE, num_workers=10)\n",
    "\n",
    "# #full dataset train\n",
    "# FULL_TRAIN_SIZE = 50000\n",
    "# dl_full = DataLoader(train_ds_cifar10, batch_size=FULL_TRAIN_SIZE)\n",
    "# for x, y in dl_full:\n",
    "#     X_full_train = x\n",
    "#     targets = y\n",
    "#     break\n",
    "\n",
    "# #full dataset train\n",
    "# FULL_TEST_SIZE = 10000\n",
    "# dl_full = DataLoader(test_ds_cifar10, batch_size=FULL_TEST_SIZE)\n",
    "# for x, y in dl_full:\n",
    "#     X_full_test = x\n",
    "#     targets_test = y\n",
    "#     break\n",
    "\n",
    "# print(X_full_train.shape, X_full_test.shape)\n",
    "# print(torch.max(X_full_train))\n",
    "# print(targets.unique(return_counts=True))\n",
    "\n",
    "# DS_IN_CHANNELS=3"
   ]
  },
  {
   "cell_type": "markdown",
   "id": "8b91365b",
   "metadata": {},
   "source": [
    "# Upload model"
   ]
  },
  {
   "cell_type": "code",
   "execution_count": 6,
   "id": "f6b6ebde",
   "metadata": {},
   "outputs": [],
   "source": [
    "device = 'cpu' #torch.device(torch.cuda.get_device_name(1))\n",
    "device = 'cuda:0'"
   ]
  },
  {
   "cell_type": "code",
   "execution_count": 7,
   "id": "fa04adc7",
   "metadata": {},
   "outputs": [],
   "source": [
    "# MODEL_TYPE = 'LRAE'\n",
    "MODEL_TYPE = 'LRAE'\n",
    "\n",
    "# Upload the model\n",
    "model_dir = 'evaluation'\n",
    "# model_dir = 'test_1_save'\n",
    "# model_dir = ''\n",
    "\n",
    "# model_name = 'MNIST__VAE_128__50__10ktrain'\n",
    "# model_name = 'test1__MNIST__AE__128__0.01'\n",
    "# model_name = 'test1__MNIST__LRAE__128__0.01__10'\n",
    "\n",
    "\n",
    "\n",
    "\n",
    "\n",
    "\n",
    "GOOD_MODEL_TYPE = ['VAE', 'AE', 'LRAE']\n",
    "assert MODEL_TYPE in GOOD_MODEL_TYPE, f\"Error, bad model type, select from: {GOOD_MODEL_TYPE}\""
   ]
  },
  {
   "cell_type": "code",
   "execution_count": 8,
   "id": "2cf1c8c0",
   "metadata": {},
   "outputs": [],
   "source": [
    "from models.R1AE_CelebA import ConvLRAE, ConvVAE, ConvAE\n"
   ]
  },
  {
   "cell_type": "code",
   "execution_count": 9,
   "id": "af095afe",
   "metadata": {},
   "outputs": [],
   "source": [
    "# PARAMETERS\n",
    "IN_FEATURES = 1024*4*4\n",
    "OUT_FEATURES = 512\n",
    "N_BINS = 20\n",
    "GRID = torch.arange(1,N_BINS+1).to(device)/N_BINS\n",
    "\n",
    "# nonlinearity = \n",
    "\n",
    "DROPOUT = 0.0\n",
    "TEMP = 0.5\n",
    "SAMPLING = 'gumbell'\n",
    "\n"
   ]
  },
  {
   "cell_type": "code",
   "execution_count": 10,
   "id": "15d98dcd",
   "metadata": {},
   "outputs": [
    {
     "name": "stdout",
     "output_type": "stream",
     "text": [
      "LRAE was inisialized\n"
     ]
    }
   ],
   "source": [
    "if MODEL_TYPE == 'LRAE':\n",
    "     model = ConvLRAE(IN_FEATURES, OUT_FEATURES, N_BINS, GRID, dropout=DROPOUT, nonlinearity=nn.ReLU(),\n",
    "                sampling=SAMPLING, temperature=TEMP, in_channels=DS_IN_CHANNELS).to(device)\n",
    "elif MODEL_TYPE == 'VAE':\n",
    "    model = ConvVAE(IN_FEATURES, OUT_FEATURES, nonlinearity=nn.ReLU(), in_channels=DS_IN_CHANNELS).to(device)\n",
    "elif MODEL_TYPE == 'AE':\n",
    "    model = ConvAE(IN_FEATURES, OUT_FEATURES, nonlinearity=nn.ReLU(), in_channels=DS_IN_CHANNELS).to(device)\n",
    "else:\n",
    "    assert False, f\"Error, bad model type, select from: {GOOD_MODEL_TYPE}\"\n",
    "    \n",
    "criterion = nn.MSELoss()\n",
    "optimizer = torch.optim.Adam(model.parameters(), lr=1e-4)\n",
    "    \n",
    "print(f\"{MODEL_TYPE} was inisialized\")"
   ]
  },
  {
   "cell_type": "code",
   "execution_count": 11,
   "id": "20399f1b",
   "metadata": {},
   "outputs": [
    {
     "data": {
      "text/plain": [
       "torch.Size([3, 64, 64])"
      ]
     },
     "execution_count": 11,
     "metadata": {},
     "output_type": "execute_result"
    }
   ],
   "source": [
    "X_full_test[0].shape"
   ]
  },
  {
   "cell_type": "code",
   "execution_count": 12,
   "id": "73c03bb1",
   "metadata": {},
   "outputs": [
    {
     "data": {
      "text/plain": [
       "<matplotlib.image.AxesImage at 0x7fee7f491520>"
      ]
     },
     "execution_count": 12,
     "metadata": {},
     "output_type": "execute_result"
    },
    {
     "data": {
      "image/png": "[encoded data removed]",
      "text/plain": [
       "<Figure size 200x200 with 1 Axes>"
      ]
     },
     "metadata": {},
     "output_type": "display_data"
    }
   ],
   "source": [
    "\n",
    "X_full_test.shape\n",
    "plt.figure(figsize=[2,2])\n",
    "plt.imshow(X_full_test[49].permute(1, 2, 0))"
   ]
  },
  {
   "cell_type": "code",
   "execution_count": 13,
   "id": "2f0e41e6",
   "metadata": {},
   "outputs": [
    {
     "name": "stdout",
     "output_type": "stream",
     "text": [
      "torch.Size([2, 3, 64, 64]) --> torch.Size([2, 3, 64, 64])\n"
     ]
    }
   ],
   "source": [
    "X_in = torch.rand(X_full_test.shape)[:2].to(device)\n",
    "X_out = model(X_in)\n",
    "print(f\"{X_in.shape} --> {X_out.shape}\")"
   ]
  },
  {
   "cell_type": "markdown",
   "id": "457e1e12",
   "metadata": {},
   "source": [
    "# Training"
   ]
  },
  {
   "cell_type": "code",
   "execution_count": null,
   "id": "0e55ec94",
   "metadata": {},
   "outputs": [],
   "source": []
  },
  {
   "cell_type": "code",
   "execution_count": 14,
   "id": "28cae56c",
   "metadata": {},
   "outputs": [],
   "source": [
    "# setup training\n",
    "criterion = nn.MSELoss()\n",
    "optimizer = torch.optim.Adam(model.parameters(), lr=1e-4)\n",
    "\n",
    "\n",
    "# PATH = PATH\n",
    "EPOCHS = 50\n",
    "ALPHA = 0.01\n",
    "\n",
    "loss_list_train = []\n",
    "loss_train_cum = 0\n",
    "\n",
    "loss_list_test = []\n",
    "loss_test_cum = 0\n",
    "i = 0\n",
    "loss = 0"
   ]
  },
  {
   "cell_type": "code",
   "execution_count": null,
   "id": "65db33f5",
   "metadata": {},
   "outputs": [],
   "source": []
  },
  {
   "cell_type": "code",
   "execution_count": 25,
   "id": "56d1ebb1",
   "metadata": {},
   "outputs": [
    {
     "name": "stdout",
     "output_type": "stream",
     "text": [
      "Training of the model\n",
      "Alpha update =  64.000\n",
      "Entropy alpha =  6.400e-01\n"
     ]
    },
    {
     "name": "stderr",
     "output_type": "stream",
     "text": [
      "  0%|          | 0/50 [00:00<?, ?it/s]"
     ]
    },
    {
     "name": "stderr",
     "output_type": "stream",
     "text": [
      "  2%|▏         | 1/50 [07:05<5:47:51, 425.94s/it]\n"
     ]
    },
    {
     "ename": "KeyboardInterrupt",
     "evalue": "",
     "output_type": "error",
     "traceback": [
      "\u001b[0;31m---------------------------------------------------------------------------\u001b[0m",
      "\u001b[0;31mKeyboardInterrupt\u001b[0m                         Traceback (most recent call last)",
      "\u001b[1;32m/home/s.gostilovich/Low_rank AE/Low_Rank_Autoencoder/Blocked Autoencoder CelebA Airat.ipynb Cell 19\u001b[0m line \u001b[0;36m8\n\u001b[1;32m     <a href='vscode-notebook-cell://ssh-remote%2Bfedor/home/s.gostilovich/Low_rank%20AE/Low_Rank_Autoencoder/Blocked%20Autoencoder%20CelebA%20Airat.ipynb#X22sdnNjb2RlLXJlbW90ZQ%3D%3D?line=77'>78</a>\u001b[0m \u001b[39mfor\u001b[39;00m x_batch, y_batch \u001b[39min\u001b[39;00m dl_test:\n\u001b[1;32m     <a href='vscode-notebook-cell://ssh-remote%2Bfedor/home/s.gostilovich/Low_rank%20AE/Low_Rank_Autoencoder/Blocked%20Autoencoder%20CelebA%20Airat.ipynb#X22sdnNjb2RlLXJlbW90ZQ%3D%3D?line=78'>79</a>\u001b[0m     \u001b[39m# model forward\u001b[39;00m\n\u001b[1;32m     <a href='vscode-notebook-cell://ssh-remote%2Bfedor/home/s.gostilovich/Low_rank%20AE/Low_Rank_Autoencoder/Blocked%20Autoencoder%20CelebA%20Airat.ipynb#X22sdnNjb2RlLXJlbW90ZQ%3D%3D?line=79'>80</a>\u001b[0m     x_batch, y_batch \u001b[39m=\u001b[39m x_batch\u001b[39m.\u001b[39mto(device), y_batch\u001b[39m.\u001b[39mto(device)\n\u001b[0;32m---> <a href='vscode-notebook-cell://ssh-remote%2Bfedor/home/s.gostilovich/Low_rank%20AE/Low_Rank_Autoencoder/Blocked%20Autoencoder%20CelebA%20Airat.ipynb#X22sdnNjb2RlLXJlbW90ZQ%3D%3D?line=80'>81</a>\u001b[0m     x_decoded \u001b[39m=\u001b[39m model(x_batch)\n\u001b[1;32m     <a href='vscode-notebook-cell://ssh-remote%2Bfedor/home/s.gostilovich/Low_rank%20AE/Low_Rank_Autoencoder/Blocked%20Autoencoder%20CelebA%20Airat.ipynb#X22sdnNjb2RlLXJlbW90ZQ%3D%3D?line=82'>83</a>\u001b[0m     loss_test \u001b[39m=\u001b[39m criterion(x_decoded\u001b[39m.\u001b[39mview(\u001b[39m-\u001b[39m\u001b[39m1\u001b[39m), x_batch\u001b[39m.\u001b[39mview(\u001b[39m-\u001b[39m\u001b[39m1\u001b[39m))\n\u001b[1;32m     <a href='vscode-notebook-cell://ssh-remote%2Bfedor/home/s.gostilovich/Low_rank%20AE/Low_Rank_Autoencoder/Blocked%20Autoencoder%20CelebA%20Airat.ipynb#X22sdnNjb2RlLXJlbW90ZQ%3D%3D?line=83'>84</a>\u001b[0m     loss_test_cum \u001b[39m+\u001b[39m\u001b[39m=\u001b[39m loss_test\u001b[39m.\u001b[39mitem()\n",
      "File \u001b[0;32m~/.venv/lib64/python3.9/site-packages/torch/nn/modules/module.py:1194\u001b[0m, in \u001b[0;36mModule._call_impl\u001b[0;34m(self, *input, **kwargs)\u001b[0m\n\u001b[1;32m   1190\u001b[0m \u001b[39m# If we don't have any hooks, we want to skip the rest of the logic in\u001b[39;00m\n\u001b[1;32m   1191\u001b[0m \u001b[39m# this function, and just call forward.\u001b[39;00m\n\u001b[1;32m   1192\u001b[0m \u001b[39mif\u001b[39;00m \u001b[39mnot\u001b[39;00m (\u001b[39mself\u001b[39m\u001b[39m.\u001b[39m_backward_hooks \u001b[39mor\u001b[39;00m \u001b[39mself\u001b[39m\u001b[39m.\u001b[39m_forward_hooks \u001b[39mor\u001b[39;00m \u001b[39mself\u001b[39m\u001b[39m.\u001b[39m_forward_pre_hooks \u001b[39mor\u001b[39;00m _global_backward_hooks\n\u001b[1;32m   1193\u001b[0m         \u001b[39mor\u001b[39;00m _global_forward_hooks \u001b[39mor\u001b[39;00m _global_forward_pre_hooks):\n\u001b[0;32m-> 1194\u001b[0m     \u001b[39mreturn\u001b[39;00m forward_call(\u001b[39m*\u001b[39;49m\u001b[39minput\u001b[39;49m, \u001b[39m*\u001b[39;49m\u001b[39m*\u001b[39;49mkwargs)\n\u001b[1;32m   1195\u001b[0m \u001b[39m# Do not call functions when jit is used\u001b[39;00m\n\u001b[1;32m   1196\u001b[0m full_backward_hooks, non_full_backward_hooks \u001b[39m=\u001b[39m [], []\n",
      "File \u001b[0;32m~/Low_rank AE/Low_Rank_Autoencoder/models/R1AE_CelebA.py:59\u001b[0m, in \u001b[0;36mConvLRAE.forward\u001b[0;34m(self, x)\u001b[0m\n\u001b[1;32m     57\u001b[0m \u001b[39m# upsample\u001b[39;00m\n\u001b[1;32m     58\u001b[0m x_2d \u001b[39m=\u001b[39m decoded\u001b[39m.\u001b[39mview(B, C, H, W)\n\u001b[0;32m---> 59\u001b[0m x_out \u001b[39m=\u001b[39m \u001b[39mself\u001b[39;49m\u001b[39m.\u001b[39;49mup(x_2d)\n\u001b[1;32m     61\u001b[0m \u001b[39mreturn\u001b[39;00m x_out\n",
      "File \u001b[0;32m~/.venv/lib64/python3.9/site-packages/torch/nn/modules/module.py:1194\u001b[0m, in \u001b[0;36mModule._call_impl\u001b[0;34m(self, *input, **kwargs)\u001b[0m\n\u001b[1;32m   1190\u001b[0m \u001b[39m# If we don't have any hooks, we want to skip the rest of the logic in\u001b[39;00m\n\u001b[1;32m   1191\u001b[0m \u001b[39m# this function, and just call forward.\u001b[39;00m\n\u001b[1;32m   1192\u001b[0m \u001b[39mif\u001b[39;00m \u001b[39mnot\u001b[39;00m (\u001b[39mself\u001b[39m\u001b[39m.\u001b[39m_backward_hooks \u001b[39mor\u001b[39;00m \u001b[39mself\u001b[39m\u001b[39m.\u001b[39m_forward_hooks \u001b[39mor\u001b[39;00m \u001b[39mself\u001b[39m\u001b[39m.\u001b[39m_forward_pre_hooks \u001b[39mor\u001b[39;00m _global_backward_hooks\n\u001b[1;32m   1193\u001b[0m         \u001b[39mor\u001b[39;00m _global_forward_hooks \u001b[39mor\u001b[39;00m _global_forward_pre_hooks):\n\u001b[0;32m-> 1194\u001b[0m     \u001b[39mreturn\u001b[39;00m forward_call(\u001b[39m*\u001b[39;49m\u001b[39minput\u001b[39;49m, \u001b[39m*\u001b[39;49m\u001b[39m*\u001b[39;49mkwargs)\n\u001b[1;32m   1195\u001b[0m \u001b[39m# Do not call functions when jit is used\u001b[39;00m\n\u001b[1;32m   1196\u001b[0m full_backward_hooks, non_full_backward_hooks \u001b[39m=\u001b[39m [], []\n",
      "File \u001b[0;32m~/.venv/lib64/python3.9/site-packages/torch/nn/modules/container.py:204\u001b[0m, in \u001b[0;36mSequential.forward\u001b[0;34m(self, input)\u001b[0m\n\u001b[1;32m    202\u001b[0m \u001b[39mdef\u001b[39;00m \u001b[39mforward\u001b[39m(\u001b[39mself\u001b[39m, \u001b[39minput\u001b[39m):\n\u001b[1;32m    203\u001b[0m     \u001b[39mfor\u001b[39;00m module \u001b[39min\u001b[39;00m \u001b[39mself\u001b[39m:\n\u001b[0;32m--> 204\u001b[0m         \u001b[39minput\u001b[39m \u001b[39m=\u001b[39m module(\u001b[39minput\u001b[39;49m)\n\u001b[1;32m    205\u001b[0m     \u001b[39mreturn\u001b[39;00m \u001b[39minput\u001b[39m\n",
      "File \u001b[0;32m~/.venv/lib64/python3.9/site-packages/torch/nn/modules/module.py:1194\u001b[0m, in \u001b[0;36mModule._call_impl\u001b[0;34m(self, *input, **kwargs)\u001b[0m\n\u001b[1;32m   1190\u001b[0m \u001b[39m# If we don't have any hooks, we want to skip the rest of the logic in\u001b[39;00m\n\u001b[1;32m   1191\u001b[0m \u001b[39m# this function, and just call forward.\u001b[39;00m\n\u001b[1;32m   1192\u001b[0m \u001b[39mif\u001b[39;00m \u001b[39mnot\u001b[39;00m (\u001b[39mself\u001b[39m\u001b[39m.\u001b[39m_backward_hooks \u001b[39mor\u001b[39;00m \u001b[39mself\u001b[39m\u001b[39m.\u001b[39m_forward_hooks \u001b[39mor\u001b[39;00m \u001b[39mself\u001b[39m\u001b[39m.\u001b[39m_forward_pre_hooks \u001b[39mor\u001b[39;00m _global_backward_hooks\n\u001b[1;32m   1193\u001b[0m         \u001b[39mor\u001b[39;00m _global_forward_hooks \u001b[39mor\u001b[39;00m _global_forward_pre_hooks):\n\u001b[0;32m-> 1194\u001b[0m     \u001b[39mreturn\u001b[39;00m forward_call(\u001b[39m*\u001b[39;49m\u001b[39minput\u001b[39;49m, \u001b[39m*\u001b[39;49m\u001b[39m*\u001b[39;49mkwargs)\n\u001b[1;32m   1195\u001b[0m \u001b[39m# Do not call functions when jit is used\u001b[39;00m\n\u001b[1;32m   1196\u001b[0m full_backward_hooks, non_full_backward_hooks \u001b[39m=\u001b[39m [], []\n",
      "File \u001b[0;32m~/Low_rank AE/Low_Rank_Autoencoder/models/conv_up_and_down.py:27\u001b[0m, in \u001b[0;36mUpsampleBlock.forward\u001b[0;34m(self, x)\u001b[0m\n\u001b[1;32m     25\u001b[0m \u001b[39mdef\u001b[39;00m \u001b[39mforward\u001b[39m(\u001b[39mself\u001b[39m, x):\n\u001b[1;32m     26\u001b[0m     x1 \u001b[39m=\u001b[39m \u001b[39mself\u001b[39m\u001b[39m.\u001b[39mupsample(x)\n\u001b[0;32m---> 27\u001b[0m     x2 \u001b[39m=\u001b[39m \u001b[39mself\u001b[39;49m\u001b[39m.\u001b[39;49mnonlinearity(x1)\n\u001b[1;32m     28\u001b[0m     \u001b[39mreturn\u001b[39;00m x2\n",
      "File \u001b[0;32m~/.venv/lib64/python3.9/site-packages/torch/nn/modules/module.py:1194\u001b[0m, in \u001b[0;36mModule._call_impl\u001b[0;34m(self, *input, **kwargs)\u001b[0m\n\u001b[1;32m   1190\u001b[0m \u001b[39m# If we don't have any hooks, we want to skip the rest of the logic in\u001b[39;00m\n\u001b[1;32m   1191\u001b[0m \u001b[39m# this function, and just call forward.\u001b[39;00m\n\u001b[1;32m   1192\u001b[0m \u001b[39mif\u001b[39;00m \u001b[39mnot\u001b[39;00m (\u001b[39mself\u001b[39m\u001b[39m.\u001b[39m_backward_hooks \u001b[39mor\u001b[39;00m \u001b[39mself\u001b[39m\u001b[39m.\u001b[39m_forward_hooks \u001b[39mor\u001b[39;00m \u001b[39mself\u001b[39m\u001b[39m.\u001b[39m_forward_pre_hooks \u001b[39mor\u001b[39;00m _global_backward_hooks\n\u001b[1;32m   1193\u001b[0m         \u001b[39mor\u001b[39;00m _global_forward_hooks \u001b[39mor\u001b[39;00m _global_forward_pre_hooks):\n\u001b[0;32m-> 1194\u001b[0m     \u001b[39mreturn\u001b[39;00m forward_call(\u001b[39m*\u001b[39;49m\u001b[39minput\u001b[39;49m, \u001b[39m*\u001b[39;49m\u001b[39m*\u001b[39;49mkwargs)\n\u001b[1;32m   1195\u001b[0m \u001b[39m# Do not call functions when jit is used\u001b[39;00m\n\u001b[1;32m   1196\u001b[0m full_backward_hooks, non_full_backward_hooks \u001b[39m=\u001b[39m [], []\n",
      "File \u001b[0;32m~/.venv/lib64/python3.9/site-packages/torch/nn/modules/activation.py:102\u001b[0m, in \u001b[0;36mReLU.forward\u001b[0;34m(self, input)\u001b[0m\n\u001b[1;32m    101\u001b[0m \u001b[39mdef\u001b[39;00m \u001b[39mforward\u001b[39m(\u001b[39mself\u001b[39m, \u001b[39minput\u001b[39m: Tensor) \u001b[39m-\u001b[39m\u001b[39m>\u001b[39m Tensor:\n\u001b[0;32m--> 102\u001b[0m     \u001b[39mreturn\u001b[39;00m F\u001b[39m.\u001b[39;49mrelu(\u001b[39minput\u001b[39;49m, inplace\u001b[39m=\u001b[39;49m\u001b[39mself\u001b[39;49m\u001b[39m.\u001b[39;49minplace)\n",
      "File \u001b[0;32m~/.venv/lib64/python3.9/site-packages/torch/nn/functional.py:1457\u001b[0m, in \u001b[0;36mrelu\u001b[0;34m(input, inplace)\u001b[0m\n\u001b[1;32m   1455\u001b[0m     result \u001b[39m=\u001b[39m torch\u001b[39m.\u001b[39mrelu_(\u001b[39minput\u001b[39m)\n\u001b[1;32m   1456\u001b[0m \u001b[39melse\u001b[39;00m:\n\u001b[0;32m-> 1457\u001b[0m     result \u001b[39m=\u001b[39m torch\u001b[39m.\u001b[39;49mrelu(\u001b[39minput\u001b[39;49m)\n\u001b[1;32m   1458\u001b[0m \u001b[39mreturn\u001b[39;00m result\n",
      "\u001b[0;31mKeyboardInterrupt\u001b[0m: "
     ]
    }
   ],
   "source": [
    "######## Training\n",
    "print(\"Training of the model\")\n",
    "\n",
    "\n",
    "\n",
    "\n",
    "alpha_kl = ALPHA\n",
    "alpha_entropy = ALPHA\n",
    "if MODEL_TYPE == 'LRAE':\n",
    "    alpha_entropy *= OUT_FEATURES/8\n",
    "    print(f\"Alpha update = {OUT_FEATURES/8: .3f}\")\n",
    "    print(f\"Entropy alpha = {alpha_entropy: .3e}\")\n",
    "\n",
    "\n",
    "# epoch_save_backup = EPOCH_SAVE_BACKUP\n",
    "# show_loss_backup = SHOW_LOSS_BACKUP\n",
    "\n",
    "\n",
    "# Training\n",
    "model.train()\n",
    "optimizer.zero_grad()\n",
    "torch.cuda.empty_cache()\n",
    "\n",
    "for epoch in tqdm(range(EPOCHS)):\n",
    "    # Forward pass: Compute predicted y by passing x to the model\n",
    "        \n",
    "    # Training\n",
    "    model.train() # Model to train\n",
    "    for x_batch, y_batch in dl:\n",
    "\n",
    "        x_batch, y_batch = x_batch.to(device), y_batch.to(device)\n",
    "        \n",
    "        # model forward\n",
    "        # 2d downsampling\n",
    "        x_down = model.down(x_batch)\n",
    "        B, C, H, W = x_down.shape\n",
    "        x_flat = x_down.view(B,C*H*W)\n",
    "        \n",
    "        encoded_out_dim, factors_probability = model.low_rank.low_rank_pants(x_flat)\n",
    "        decoded_1d = model.low_rank.decoder(encoded_out_dim)\n",
    "        \n",
    "        # 2d upsampling\n",
    "        decoded_2d_small = decoded_1d.view(B, C, H, W)\n",
    "        decoded_2d = model.up(decoded_2d_small)\n",
    "        \n",
    "        # loss\n",
    "\n",
    "#         loss_entropy = torch.sum(torch.log(factors_probability+1e-9)*factors_probability,dim=-1)\n",
    "        # factors_probability = nn.Softmax(dim=-1)(factors_probability)\n",
    "        # loss_entropy = torch.sum(torch.log(factors_probability+1e-9)*factors_probability,dim=-1)\n",
    "        loss = criterion(decoded_2d.view(-1), x_batch.view(-1)) \n",
    "        if MODEL_TYPE == 'VAE':\n",
    "            loss += alpha_kl*factors_probability.mean()  # KL loss\n",
    "            \n",
    "        if MODEL_TYPE == 'LRAE':\n",
    "            factors_probability = nn.Softmax(dim=-1)(factors_probability)\n",
    "            loss_entropy = torch.sum(torch.log(factors_probability+1e-9)*factors_probability,dim=-1)            \n",
    "            loss += alpha_entropy*torch.mean(torch.exp(loss_entropy)) # entropy loss\n",
    "            \n",
    "            \n",
    "          \n",
    "            \n",
    "            \n",
    "        # Zero gradients, perform a backward pass, and update the weights.\n",
    "        optimizer.zero_grad()\n",
    "        loss.backward()\n",
    "        optimizer.step()\n",
    "        # accumulate loss\n",
    "        loss_train_cum += loss.item()\n",
    "        \n",
    "        # validation and saving\n",
    "        i += 1\n",
    "        if i % 100 == 0:\n",
    "            loss_list_train.append(loss_train_cum/100)\n",
    "            loss_train_cum = 0\n",
    "            with torch.no_grad():\n",
    "                model.eval() # put to eval\n",
    "                for x_batch, y_batch in dl_test:\n",
    "                    # model forward\n",
    "                    x_batch, y_batch = x_batch.to(device), y_batch.to(device)\n",
    "                    x_decoded = model(x_batch)\n",
    "\n",
    "                    loss_test = criterion(x_decoded.view(-1), x_batch.view(-1))\n",
    "                    loss_test_cum += loss_test.item()\n",
    "                    \n",
    "            assert torch.isnan(x_decoded).sum() == 0, f\"Error! Nan values ({torch.isnan(x_decoded).sum()}) in models output\"\n",
    "      \n",
    "            # save to list\n",
    "            loss_list_test.append(loss_test_cum/len(dl_test))\n",
    "            loss_test_cum = 0\n",
    "          \n",
    "            \n",
    "    # # backup saving  \n",
    "    # if epoch%epoch_save_backup == 0:\n",
    "    #     torch.save({\n",
    "    #         'epoch': epoch,\n",
    "    #         'model_state_dict': model.state_dict(),\n",
    "    #         'optimizer_state_dict': optimizer.state_dict(),\n",
    "    #         'loss': loss,\n",
    "    #         'loss_list_train': loss_list_train,\n",
    "    #         'loss_list_test': loss_list_test,\n",
    "            \n",
    "    #         }, PATH + f\"__{epoch}.pth\")\n",
    "      \n",
    "    # # loss printing        \n",
    "    # if (epoch % show_loss_backup == show_loss_backup-1) or (epoch == EPOCHS -1):\n",
    "    #     fig = plt.figure(figsize=(6,3))\n",
    "    #     plt.plot(loss_list_train, alpha=0.5, label='train')\n",
    "    #     plt.plot(loss_list_test, alpha=0.5, label='test')\n",
    "    #     plt.legend()\n",
    "    #     plt.savefig( PATH  + \"_loss.png\")\n",
    "    #     pass\n",
    "            \n",
    "            \n",
    "        \n",
    "\n",
    "\n",
    "\n",
    "# print(\"Finishing of the training...\")\n",
    "# torch.save({\n",
    "#         'epoch': epoch,\n",
    "#         'model_state_dict': model.state_dict(),\n",
    "#         'optimizer_state_dict': optimizer.state_dict(),\n",
    "#         'loss': loss,\n",
    "#         'loss_list_train': loss_list_train,\n",
    "#         'loss_list_test': loss_list_test,\n",
    "        \n",
    "#         }, PATH + f\"__{epoch}__end.pth\")\n",
    "\n",
    "# print(\"Model training was successfully finished and saved!\")"
   ]
  },
  {
   "cell_type": "code",
   "execution_count": 17,
   "id": "a70b8037",
   "metadata": {},
   "outputs": [],
   "source": [
    "epoch = -1"
   ]
  },
  {
   "cell_type": "code",
   "execution_count": 18,
   "id": "110d615c",
   "metadata": {},
   "outputs": [],
   "source": [
    "torch.save({\n",
    "            'epoch': epoch,\n",
    "            'model_state_dict': model.state_dict(),\n",
    "            'optimizer_state_dict': optimizer.state_dict(),\n",
    "            'loss': loss,\n",
    "            'loss_list_train': loss_list_train,\n",
    "            'loss_list_test': loss_list_test,\n",
    "            \n",
    "            }, \"test_.pth\")"
   ]
  },
  {
   "cell_type": "code",
   "execution_count": 20,
   "id": "bcbd1455",
   "metadata": {},
   "outputs": [
    {
     "data": {
      "text/plain": [
       "1600"
      ]
     },
     "execution_count": 20,
     "metadata": {},
     "output_type": "execute_result"
    }
   ],
   "source": [
    "import sys\n",
    "sys. getsizeof(model.state_dict())"
   ]
  },
  {
   "cell_type": "code",
   "execution_count": 21,
   "id": "2fc4ba56",
   "metadata": {},
   "outputs": [
    {
     "data": {
      "text/plain": [
       "200.0"
      ]
     },
     "execution_count": 21,
     "metadata": {},
     "output_type": "execute_result"
    }
   ],
   "source": [
    "1600/8"
   ]
  },
  {
   "cell_type": "code",
   "execution_count": null,
   "id": "c773c43f",
   "metadata": {},
   "outputs": [],
   "source": []
  },
  {
   "cell_type": "markdown",
   "id": "7141f1cd",
   "metadata": {},
   "source": [
    "# Loading"
   ]
  },
  {
   "cell_type": "code",
   "execution_count": null,
   "id": "c29816f3",
   "metadata": {},
   "outputs": [],
   "source": [
    "# # Upload the model\n",
    "# model_name = 'test1__MNIST__LRAE__128__0.01__5'\n",
    "# model_dir = 'test_1_save'\n",
    "model_path = os.path.join(model_dir, model_name + '.pth')"
   ]
  },
  {
   "cell_type": "code",
   "execution_count": null,
   "id": "81efae9a",
   "metadata": {},
   "outputs": [],
   "source": [
    "## Loading\n",
    "# PATH = \"MNIST__gumbell__entropy__200\"\n",
    "# PATH = \"MNIST__VAE__8__25\"\n",
    "PATH = model_path\n",
    "\n",
    "checkpoint = torch.load(PATH)\n",
    "model.load_state_dict(checkpoint['model_state_dict'])\n",
    "optimizer.load_state_dict(checkpoint['optimizer_state_dict'])\n",
    "epoch = checkpoint['epoch']\n",
    "loss = checkpoint['loss']\n",
    "loss_list_train = checkpoint['loss_list_train']\n",
    "loss_list_test = checkpoint['loss_list_test']"
   ]
  },
  {
   "cell_type": "markdown",
   "id": "754c5776",
   "metadata": {},
   "source": [
    "# Evaluation"
   ]
  },
  {
   "cell_type": "code",
   "execution_count": null,
   "id": "6bc36bb0",
   "metadata": {},
   "outputs": [],
   "source": [
    "from models.evaluation import inf_by_layers, check_reconstruction, gen_idx_for_batches, display_datasets\n",
    "from models.evaluation import gen_gm_dataset, update_FID_class, ManualFID, prepare_to_FID\n",
    "from torchmetrics.image.fid import FrechetInceptionDistance as tm_FrechetInceptionDistance\n",
    "from torcheval.metrics import FrechetInceptionDistance\n",
    "\n",
    "from sklearn.mixture import GaussianMixture"
   ]
  }
 ],
 "metadata": {
  "kernelspec": {
   "display_name": "Python 3",
   "language": "python",
   "name": "python3"
  },
  "language_info": {
   "codemirror_mode": {
    "name": "ipython",
    "version": 3
   },
   "file_extension": ".py",
   "mimetype": "text/x-python",
   "name": "python",
   "nbconvert_exporter": "python",
   "pygments_lexer": "ipython3",
   "version": "3.9.13"
  }
 },
 "nbformat": 4,
 "nbformat_minor": 5
}
